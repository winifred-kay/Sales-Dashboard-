{
 "cells": [
  {
   "cell_type": "markdown",
   "id": "77972a9c",
   "metadata": {},
   "source": [
    "# Introduction\n",
    "## General\n",
    "\"Data analysis is a process of inspecting, cleaning, transforming, and modeling data with the goal of discovering useful information, informing conclusions, and supporting decision-making.\" ([Wikipedia](https://en.wikipedia.org/wiki/Data_analysis)).\n",
    "\n",
    "In this notebook we are going to clean and modify data from different workbooks and merge the data to do some visualizations on a dashboard"
   ]
  },
  {
   "cell_type": "code",
   "execution_count": 1,
   "id": "6038b5fb",
   "metadata": {},
   "outputs": [],
   "source": [
    "# Data handling\n",
    "import pandas as pd\n",
    "import numpy as np\n",
    "\n",
    "\n",
    "# Vizualisation (Matplotlib, Plotly, Seaborn, etc. )\n",
    "\n",
    "import matplotlib.pyplot as plt\n",
    "import seaborn as sns\n",
    "import plotly.express as px\n",
    "%matplotlib inline\n",
    "from pandas.plotting import lag_plot"
   ]
  },
  {
   "cell_type": "markdown",
   "id": "5616add5",
   "metadata": {},
   "source": [
    "# Loading Datasets"
   ]
  },
  {
   "cell_type": "code",
   "execution_count": 2,
   "id": "16ffdcaf",
   "metadata": {},
   "outputs": [],
   "source": [
    "df_Jan = pd.read_excel(\"Sales_January_2019.xlsx\", parse_dates = True)\n",
    "df_Feb = pd.read_excel(\"Sales_February_2019.xlsx\", parse_dates = True)\n",
    "df_Mar = pd.read_excel(\"Sales_March_2019.xlsx\", parse_dates = True)\n",
    "df_Apr = pd.read_excel(\"Sales_April_2019.xlsx\", parse_dates = True)\n",
    "df_May = pd.read_excel(\"Sales_May_2019.xlsx\", parse_dates = True)\n",
    "df_Jun = pd.read_excel(\"Sales_June_2019.xlsx\", parse_dates = True)\n",
    "df_Jul = pd.read_excel(\"Sales_July_2019.xlsx\", parse_dates = True)\n",
    "df_Aug = pd.read_excel(\"Sales_August_2019.xlsx\", parse_dates = True)\n",
    "df_Sep = pd.read_excel(\"Sales_September_2019.xlsx\", parse_dates = True)\n",
    "df_Oct = pd.read_excel(\"Sales_October_2019.xlsx\", parse_dates = True)\n",
    "df_Nov = pd.read_excel(\"Sales_November_2019.xlsx\", parse_dates = True)\n",
    "df_Dec = pd.read_excel(\"Sales_December_2019.xlsx\", parse_dates = True)"
   ]
  },
  {
   "cell_type": "code",
   "execution_count": 3,
   "id": "3d1d96b4",
   "metadata": {},
   "outputs": [
    {
     "name": "stdout",
     "output_type": "stream",
     "text": [
      "<class 'pandas.core.frame.DataFrame'>\n",
      "RangeIndex: 9723 entries, 0 to 9722\n",
      "Data columns (total 6 columns):\n",
      " #   Column            Non-Null Count  Dtype \n",
      "---  ------            --------------  ----- \n",
      " 0   Order ID          9697 non-null   object\n",
      " 1   Product           9697 non-null   object\n",
      " 2   Quantity Ordered  9697 non-null   object\n",
      " 3   Price Each        9697 non-null   object\n",
      " 4   Order Date        9697 non-null   object\n",
      " 5   Purchase Address  9697 non-null   object\n",
      "dtypes: object(6)\n",
      "memory usage: 455.9+ KB\n"
     ]
    }
   ],
   "source": [
    "df_Jan.info()"
   ]
  },
  {
   "cell_type": "code",
   "execution_count": 4,
   "id": "c9f3c997",
   "metadata": {},
   "outputs": [
    {
     "name": "stdout",
     "output_type": "stream",
     "text": [
      "<class 'pandas.core.frame.DataFrame'>\n",
      "RangeIndex: 12036 entries, 0 to 12035\n",
      "Data columns (total 6 columns):\n",
      " #   Column            Non-Null Count  Dtype \n",
      "---  ------            --------------  ----- \n",
      " 0   Order ID          12004 non-null  object\n",
      " 1   Product           12004 non-null  object\n",
      " 2   Quantity Ordered  12004 non-null  object\n",
      " 3   Price Each        12004 non-null  object\n",
      " 4   Order Date        12004 non-null  object\n",
      " 5   Purchase Address  12004 non-null  object\n",
      "dtypes: object(6)\n",
      "memory usage: 564.3+ KB\n"
     ]
    }
   ],
   "source": [
    "df_Feb.info()"
   ]
  },
  {
   "cell_type": "code",
   "execution_count": 5,
   "id": "90e1658c",
   "metadata": {},
   "outputs": [
    {
     "name": "stdout",
     "output_type": "stream",
     "text": [
      "<class 'pandas.core.frame.DataFrame'>\n",
      "RangeIndex: 15226 entries, 0 to 15225\n",
      "Data columns (total 6 columns):\n",
      " #   Column            Non-Null Count  Dtype \n",
      "---  ------            --------------  ----- \n",
      " 0   Order ID          15189 non-null  object\n",
      " 1   Product           15189 non-null  object\n",
      " 2   Quantity Ordered  15189 non-null  object\n",
      " 3   Price Each        15189 non-null  object\n",
      " 4   Order Date        15189 non-null  object\n",
      " 5   Purchase Address  15189 non-null  object\n",
      "dtypes: object(6)\n",
      "memory usage: 713.8+ KB\n"
     ]
    }
   ],
   "source": [
    "df_Mar.info()"
   ]
  },
  {
   "cell_type": "code",
   "execution_count": 6,
   "id": "f00202d8",
   "metadata": {},
   "outputs": [
    {
     "name": "stdout",
     "output_type": "stream",
     "text": [
      "<class 'pandas.core.frame.DataFrame'>\n",
      "RangeIndex: 18383 entries, 0 to 18382\n",
      "Data columns (total 6 columns):\n",
      " #   Column            Non-Null Count  Dtype \n",
      "---  ------            --------------  ----- \n",
      " 0   Order ID          18324 non-null  object\n",
      " 1   Product           18324 non-null  object\n",
      " 2   Quantity Ordered  18324 non-null  object\n",
      " 3   Price Each        18324 non-null  object\n",
      " 4   Order Date        18324 non-null  object\n",
      " 5   Purchase Address  18324 non-null  object\n",
      "dtypes: object(6)\n",
      "memory usage: 861.8+ KB\n"
     ]
    }
   ],
   "source": [
    "df_Apr.info()"
   ]
  },
  {
   "cell_type": "code",
   "execution_count": 7,
   "id": "d2603867",
   "metadata": {},
   "outputs": [
    {
     "name": "stdout",
     "output_type": "stream",
     "text": [
      "<class 'pandas.core.frame.DataFrame'>\n",
      "RangeIndex: 16635 entries, 0 to 16634\n",
      "Data columns (total 6 columns):\n",
      " #   Column            Non-Null Count  Dtype \n",
      "---  ------            --------------  ----- \n",
      " 0   Order ID          16587 non-null  object\n",
      " 1   Product           16587 non-null  object\n",
      " 2   Quantity Ordered  16587 non-null  object\n",
      " 3   Price Each        16587 non-null  object\n",
      " 4   Order Date        16587 non-null  object\n",
      " 5   Purchase Address  16587 non-null  object\n",
      "dtypes: object(6)\n",
      "memory usage: 779.9+ KB\n"
     ]
    }
   ],
   "source": [
    "df_May.info()"
   ]
  },
  {
   "cell_type": "code",
   "execution_count": 8,
   "id": "fe355a89",
   "metadata": {},
   "outputs": [
    {
     "name": "stdout",
     "output_type": "stream",
     "text": [
      "<class 'pandas.core.frame.DataFrame'>\n",
      "RangeIndex: 13622 entries, 0 to 13621\n",
      "Data columns (total 6 columns):\n",
      " #   Column            Non-Null Count  Dtype \n",
      "---  ------            --------------  ----- \n",
      " 0   Order ID          13579 non-null  object\n",
      " 1   Product           13579 non-null  object\n",
      " 2   Quantity Ordered  13579 non-null  object\n",
      " 3   Price Each        13579 non-null  object\n",
      " 4   Order Date        13579 non-null  object\n",
      " 5   Purchase Address  13579 non-null  object\n",
      "dtypes: object(6)\n",
      "memory usage: 638.7+ KB\n"
     ]
    }
   ],
   "source": [
    "df_Jun.info()"
   ]
  },
  {
   "cell_type": "code",
   "execution_count": null,
   "id": "7ceb0283",
   "metadata": {},
   "outputs": [],
   "source": [
    "df_Jul.info()"
   ]
  },
  {
   "cell_type": "code",
   "execution_count": 10,
   "id": "87c5a3ae",
   "metadata": {},
   "outputs": [
    {
     "name": "stdout",
     "output_type": "stream",
     "text": [
      "<class 'pandas.core.frame.DataFrame'>\n",
      "RangeIndex: 11957 entries, 0 to 11956\n",
      "Data columns (total 6 columns):\n",
      " #   Column            Non-Null Count  Dtype         \n",
      "---  ------            --------------  -----         \n",
      " 0   Order_ID          11957 non-null  int64         \n",
      " 1   Product           11957 non-null  object        \n",
      " 2   Quantity_Ordered  11957 non-null  int64         \n",
      " 3   Price_Each        11957 non-null  float64       \n",
      " 4   Order_Date        11957 non-null  datetime64[ns]\n",
      " 5   Purchase_Address  11957 non-null  object        \n",
      "dtypes: datetime64[ns](1), float64(1), int64(2), object(2)\n",
      "memory usage: 560.6+ KB\n"
     ]
    }
   ],
   "source": [
    "df_Aug.info()"
   ]
  },
  {
   "cell_type": "code",
   "execution_count": 11,
   "id": "6cb643ca",
   "metadata": {},
   "outputs": [
    {
     "name": "stdout",
     "output_type": "stream",
     "text": [
      "<class 'pandas.core.frame.DataFrame'>\n",
      "RangeIndex: 11628 entries, 0 to 11627\n",
      "Data columns (total 6 columns):\n",
      " #   Column                               Non-Null Count  Dtype         \n",
      "---  ------                               --------------  -----         \n",
      " 0   248151                               11628 non-null  int64         \n",
      " 1   AA Batteries (4-pack)                11628 non-null  object        \n",
      " 2   4                                    11628 non-null  int64         \n",
      " 3   3.8399999141693115                   11628 non-null  float64       \n",
      " 4   2017-09-19 14:44:00                  11628 non-null  datetime64[ns]\n",
      " 5   380 North St, Los Angeles, CA 90001  11628 non-null  object        \n",
      "dtypes: datetime64[ns](1), float64(1), int64(2), object(2)\n",
      "memory usage: 545.2+ KB\n"
     ]
    }
   ],
   "source": [
    "df_Sep.info()"
   ]
  },
  {
   "cell_type": "code",
   "execution_count": 12,
   "id": "6b354e5d",
   "metadata": {},
   "outputs": [
    {
     "name": "stdout",
     "output_type": "stream",
     "text": [
      "<class 'pandas.core.frame.DataFrame'>\n",
      "RangeIndex: 20284 entries, 0 to 20283\n",
      "Data columns (total 6 columns):\n",
      " #   Column            Non-Null Count  Dtype         \n",
      "---  ------            --------------  -----         \n",
      " 0   Order_ID          20284 non-null  int64         \n",
      " 1   Product           20284 non-null  object        \n",
      " 2   Quantity_Ordered  20284 non-null  int64         \n",
      " 3   Price_Each        20284 non-null  float64       \n",
      " 4   Order_Date        20284 non-null  datetime64[ns]\n",
      " 5   Purchase_Address  20284 non-null  object        \n",
      "dtypes: datetime64[ns](1), float64(1), int64(2), object(2)\n",
      "memory usage: 950.9+ KB\n"
     ]
    }
   ],
   "source": [
    "df_Oct.info()"
   ]
  },
  {
   "cell_type": "code",
   "execution_count": 13,
   "id": "779136af",
   "metadata": {},
   "outputs": [
    {
     "name": "stdout",
     "output_type": "stream",
     "text": [
      "<class 'pandas.core.frame.DataFrame'>\n",
      "RangeIndex: 17580 entries, 0 to 17579\n",
      "Data columns (total 6 columns):\n",
      " #   Column            Non-Null Count  Dtype         \n",
      "---  ------            --------------  -----         \n",
      " 0   Order_ID          17580 non-null  int64         \n",
      " 1   Product           17580 non-null  object        \n",
      " 2   Quantity_Ordered  17580 non-null  int64         \n",
      " 3   Price_Each        17580 non-null  float64       \n",
      " 4   Order_Date        17580 non-null  datetime64[ns]\n",
      " 5   Purchase_Address  17580 non-null  object        \n",
      "dtypes: datetime64[ns](1), float64(1), int64(2), object(2)\n",
      "memory usage: 824.2+ KB\n"
     ]
    }
   ],
   "source": [
    "df_Nov.info()"
   ]
  },
  {
   "cell_type": "code",
   "execution_count": 14,
   "id": "231e2193",
   "metadata": {},
   "outputs": [
    {
     "name": "stdout",
     "output_type": "stream",
     "text": [
      "<class 'pandas.core.frame.DataFrame'>\n",
      "RangeIndex: 24988 entries, 0 to 24987\n",
      "Data columns (total 6 columns):\n",
      " #   Column                                  Non-Null Count  Dtype         \n",
      "---  ------                                  --------------  -----         \n",
      " 0   295665                                  24988 non-null  int64         \n",
      " 1   Macbook Pro Laptop                      24988 non-null  object        \n",
      " 2   1                                       24988 non-null  int64         \n",
      " 3   1700                                    24988 non-null  float64       \n",
      " 4   2030-12-19 00:01:00                     24988 non-null  datetime64[ns]\n",
      " 5   136 Church St, New York City, NY 10001  24988 non-null  object        \n",
      "dtypes: datetime64[ns](1), float64(1), int64(2), object(2)\n",
      "memory usage: 1.1+ MB\n"
     ]
    }
   ],
   "source": [
    "df_Dec.info()"
   ]
  },
  {
   "cell_type": "markdown",
   "id": "ae10e849",
   "metadata": {},
   "source": [
    "###### Running through each file it is noticed that July, September and December files have no column headers as the others.\n",
    "###### Also the datatypes of the first half of the year is not equal to the second half"
   ]
  },
  {
   "cell_type": "markdown",
   "id": "e7faa1a6",
   "metadata": {},
   "source": [
    "## Data Cleaning"
   ]
  },
  {
   "cell_type": "code",
   "execution_count": 15,
   "id": "6d90a3dd",
   "metadata": {},
   "outputs": [],
   "source": [
    "#Adding column headers\n",
    "df_Dec.columns = ['Order_ID','Product','Quantity_Ordered','Price_Each','Order_Date','Purchase_Address']\n",
    "df_Jul.columns = ['Order_ID','Product','Quantity_Ordered','Price_Each','Order_Date','Purchase_Address']\n",
    "df_Sep.columns = ['Order_ID','Product','Quantity_Ordered','Price_Each','Order_Date','Purchase_Address'] "
   ]
  },
  {
   "cell_type": "code",
   "execution_count": 16,
   "id": "6651085f",
   "metadata": {},
   "outputs": [
    {
     "name": "stdout",
     "output_type": "stream",
     "text": [
      "<class 'pandas.core.frame.DataFrame'>\n",
      "RangeIndex: 24988 entries, 0 to 24987\n",
      "Data columns (total 6 columns):\n",
      " #   Column            Non-Null Count  Dtype         \n",
      "---  ------            --------------  -----         \n",
      " 0   Order_ID          24988 non-null  int64         \n",
      " 1   Product           24988 non-null  object        \n",
      " 2   Quantity_Ordered  24988 non-null  int64         \n",
      " 3   Price_Each        24988 non-null  float64       \n",
      " 4   Order_Date        24988 non-null  datetime64[ns]\n",
      " 5   Purchase_Address  24988 non-null  object        \n",
      "dtypes: datetime64[ns](1), float64(1), int64(2), object(2)\n",
      "memory usage: 1.1+ MB\n"
     ]
    }
   ],
   "source": [
    "df_Dec.info()"
   ]
  },
  {
   "cell_type": "code",
   "execution_count": 17,
   "id": "c407e9e3",
   "metadata": {},
   "outputs": [],
   "source": [
    "df_Jan['Sales_Month'] = 'January'\n",
    "df_Feb['Sales_Month'] = 'February'\n",
    "df_Mar['Sales_Month'] = 'March'\n",
    "df_Apr['Sales_Month'] = 'April'\n",
    "df_May['Sales_Month'] = 'May'\n",
    "df_Jun['Sales_Month'] = 'June'\n",
    "df_Jul['Sales_Month'] = 'July'\n",
    "df_Aug['Sales_Month'] = 'August'\n",
    "df_Sep['Sales_Month'] = 'September'\n",
    "df_Oct['Sales_Month'] = 'October'\n",
    "df_Nov['Sales_Month'] = 'November'\n",
    "df_Dec['Sales_Month'] = 'December'"
   ]
  },
  {
   "cell_type": "code",
   "execution_count": 18,
   "id": "93958c54",
   "metadata": {},
   "outputs": [
    {
     "name": "stdout",
     "output_type": "stream",
     "text": [
      "<class 'pandas.core.frame.DataFrame'>\n",
      "RangeIndex: 9723 entries, 0 to 9722\n",
      "Data columns (total 7 columns):\n",
      " #   Column            Non-Null Count  Dtype \n",
      "---  ------            --------------  ----- \n",
      " 0   Order ID          9697 non-null   object\n",
      " 1   Product           9697 non-null   object\n",
      " 2   Quantity Ordered  9697 non-null   object\n",
      " 3   Price Each        9697 non-null   object\n",
      " 4   Order Date        9697 non-null   object\n",
      " 5   Purchase Address  9697 non-null   object\n",
      " 6   Sales_Month       9723 non-null   object\n",
      "dtypes: object(7)\n",
      "memory usage: 531.9+ KB\n"
     ]
    }
   ],
   "source": [
    "df_Jan.info()"
   ]
  },
  {
   "cell_type": "code",
   "execution_count": 19,
   "id": "ba4ffb3a",
   "metadata": {},
   "outputs": [],
   "source": [
    "#Changing the column names of the first half of the year \n",
    "df_Jan.rename(columns = {'Order ID': 'Order_ID','Quantity Ordered':'Quantity_Ordered','Price Each':'Price_Each','Order Date':'Order_Date','Purchase Address':'Purchase_Address'}, inplace=True)\n",
    "df_Feb.rename(columns = {'Order ID': 'Order_ID','Quantity Ordered':'Quantity_Ordered','Price Each':'Price_Each','Order Date':'Order_Date','Purchase Address':'Purchase_Address'}, inplace=True)\n",
    "df_Mar.rename(columns = {'Order ID': 'Order_ID','Quantity Ordered':'Quantity_Ordered','Price Each':'Price_Each','Order Date':'Order_Date','Purchase Address':'Purchase_Address'}, inplace=True)\n",
    "df_Apr.rename(columns = {'Order ID': 'Order_ID','Quantity Ordered':'Quantity_Ordered','Price Each':'Price_Each','Order Date':'Order_Date','Purchase Address':'Purchase_Address'}, inplace=True)\n",
    "df_May.rename(columns = {'Order ID': 'Order_ID','Quantity Ordered':'Quantity_Ordered','Price Each':'Price_Each','Order Date':'Order_Date','Purchase Address':'Purchase_Address'}, inplace=True)\n",
    "df_Jun.rename(columns = {'Order ID': 'Order_ID','Quantity Ordered':'Quantity_Ordered','Price Each':'Price_Each','Order Date':'Order_Date','Purchase Address':'Purchase_Address'}, inplace=True)"
   ]
  },
  {
   "cell_type": "code",
   "execution_count": 35,
   "id": "1346121c",
   "metadata": {},
   "outputs": [],
   "source": [
    "#Merging the data from first half of the year since the datatypes of all columns are the same\n",
    "First_half = pd.concat([df_Jan,df_Feb,df_Mar,df_Apr,df_May,df_Jun])"
   ]
  },
  {
   "cell_type": "code",
   "execution_count": 36,
   "id": "3955732a",
   "metadata": {},
   "outputs": [
    {
     "data": {
      "text/html": [
       "<div>\n",
       "<style scoped>\n",
       "    .dataframe tbody tr th:only-of-type {\n",
       "        vertical-align: middle;\n",
       "    }\n",
       "\n",
       "    .dataframe tbody tr th {\n",
       "        vertical-align: top;\n",
       "    }\n",
       "\n",
       "    .dataframe thead th {\n",
       "        text-align: right;\n",
       "    }\n",
       "</style>\n",
       "<table border=\"1\" class=\"dataframe\">\n",
       "  <thead>\n",
       "    <tr style=\"text-align: right;\">\n",
       "      <th></th>\n",
       "      <th>Order_ID</th>\n",
       "      <th>Product</th>\n",
       "      <th>Quantity_Ordered</th>\n",
       "      <th>Price_Each</th>\n",
       "      <th>Order_Date</th>\n",
       "      <th>Purchase_Address</th>\n",
       "      <th>Sales_Month</th>\n",
       "    </tr>\n",
       "  </thead>\n",
       "  <tbody>\n",
       "    <tr>\n",
       "      <th>0</th>\n",
       "      <td>141234</td>\n",
       "      <td>iPhone</td>\n",
       "      <td>1</td>\n",
       "      <td>700</td>\n",
       "      <td>2019-01-22 21:25:00</td>\n",
       "      <td>944 Walnut St, Boston, MA 02215</td>\n",
       "      <td>January</td>\n",
       "    </tr>\n",
       "    <tr>\n",
       "      <th>1</th>\n",
       "      <td>141235</td>\n",
       "      <td>Lightning Charging Cable</td>\n",
       "      <td>1</td>\n",
       "      <td>14.95</td>\n",
       "      <td>2019-01-28 14:15:00</td>\n",
       "      <td>185 Maple St, Portland, OR 97035</td>\n",
       "      <td>January</td>\n",
       "    </tr>\n",
       "    <tr>\n",
       "      <th>2</th>\n",
       "      <td>141236</td>\n",
       "      <td>Wired Headphones</td>\n",
       "      <td>2</td>\n",
       "      <td>11.99</td>\n",
       "      <td>2019-01-17 13:33:00</td>\n",
       "      <td>538 Adams St, San Francisco, CA 94016</td>\n",
       "      <td>January</td>\n",
       "    </tr>\n",
       "    <tr>\n",
       "      <th>3</th>\n",
       "      <td>141237</td>\n",
       "      <td>27in FHD Monitor</td>\n",
       "      <td>1</td>\n",
       "      <td>149.99</td>\n",
       "      <td>2019-01-05 20:33:00</td>\n",
       "      <td>738 10th St, Los Angeles, CA 90001</td>\n",
       "      <td>January</td>\n",
       "    </tr>\n",
       "    <tr>\n",
       "      <th>4</th>\n",
       "      <td>141238</td>\n",
       "      <td>Wired Headphones</td>\n",
       "      <td>1</td>\n",
       "      <td>11.99</td>\n",
       "      <td>2019-01-25 11:59:00</td>\n",
       "      <td>387 10th St, Austin, TX 73301</td>\n",
       "      <td>January</td>\n",
       "    </tr>\n",
       "  </tbody>\n",
       "</table>\n",
       "</div>"
      ],
      "text/plain": [
       "  Order_ID                   Product Quantity_Ordered Price_Each  \\\n",
       "0   141234                    iPhone                1        700   \n",
       "1   141235  Lightning Charging Cable                1      14.95   \n",
       "2   141236          Wired Headphones                2      11.99   \n",
       "3   141237          27in FHD Monitor                1     149.99   \n",
       "4   141238          Wired Headphones                1      11.99   \n",
       "\n",
       "            Order_Date                       Purchase_Address Sales_Month  \n",
       "0  2019-01-22 21:25:00        944 Walnut St, Boston, MA 02215     January  \n",
       "1  2019-01-28 14:15:00       185 Maple St, Portland, OR 97035     January  \n",
       "2  2019-01-17 13:33:00  538 Adams St, San Francisco, CA 94016     January  \n",
       "3  2019-01-05 20:33:00     738 10th St, Los Angeles, CA 90001     January  \n",
       "4  2019-01-25 11:59:00          387 10th St, Austin, TX 73301     January  "
      ]
     },
     "execution_count": 36,
     "metadata": {},
     "output_type": "execute_result"
    }
   ],
   "source": [
    "First_half.head()"
   ]
  },
  {
   "cell_type": "code",
   "execution_count": 37,
   "id": "d51ab273",
   "metadata": {},
   "outputs": [
    {
     "name": "stdout",
     "output_type": "stream",
     "text": [
      "<class 'pandas.core.frame.DataFrame'>\n",
      "Int64Index: 85599 entries, 0 to 13621\n",
      "Data columns (total 7 columns):\n",
      " #   Column            Non-Null Count  Dtype \n",
      "---  ------            --------------  ----- \n",
      " 0   Order_ID          85380 non-null  object\n",
      " 1   Product           85380 non-null  object\n",
      " 2   Quantity_Ordered  85380 non-null  object\n",
      " 3   Price_Each        85380 non-null  object\n",
      " 4   Order_Date        85380 non-null  object\n",
      " 5   Purchase_Address  85380 non-null  object\n",
      " 6   Sales_Month       85599 non-null  object\n",
      "dtypes: object(7)\n",
      "memory usage: 5.2+ MB\n"
     ]
    }
   ],
   "source": [
    "First_half.info()"
   ]
  },
  {
   "cell_type": "code",
   "execution_count": 38,
   "id": "f28e011e",
   "metadata": {},
   "outputs": [
    {
     "data": {
      "text/html": [
       "<div>\n",
       "<style scoped>\n",
       "    .dataframe tbody tr th:only-of-type {\n",
       "        vertical-align: middle;\n",
       "    }\n",
       "\n",
       "    .dataframe tbody tr th {\n",
       "        vertical-align: top;\n",
       "    }\n",
       "\n",
       "    .dataframe thead th {\n",
       "        text-align: right;\n",
       "    }\n",
       "</style>\n",
       "<table border=\"1\" class=\"dataframe\">\n",
       "  <thead>\n",
       "    <tr style=\"text-align: right;\">\n",
       "      <th></th>\n",
       "      <th>Order_ID</th>\n",
       "      <th>Product</th>\n",
       "      <th>Quantity_Ordered</th>\n",
       "      <th>Price_Each</th>\n",
       "      <th>Order_Date</th>\n",
       "      <th>Purchase_Address</th>\n",
       "      <th>Sales_Month</th>\n",
       "    </tr>\n",
       "  </thead>\n",
       "  <tbody>\n",
       "    <tr>\n",
       "      <th>75</th>\n",
       "      <td>NaN</td>\n",
       "      <td>NaN</td>\n",
       "      <td>NaN</td>\n",
       "      <td>NaN</td>\n",
       "      <td>NaN</td>\n",
       "      <td>NaN</td>\n",
       "      <td>February</td>\n",
       "    </tr>\n",
       "    <tr>\n",
       "      <th>169</th>\n",
       "      <td>NaN</td>\n",
       "      <td>NaN</td>\n",
       "      <td>NaN</td>\n",
       "      <td>NaN</td>\n",
       "      <td>NaN</td>\n",
       "      <td>NaN</td>\n",
       "      <td>February</td>\n",
       "    </tr>\n",
       "    <tr>\n",
       "      <th>172</th>\n",
       "      <td>NaN</td>\n",
       "      <td>NaN</td>\n",
       "      <td>NaN</td>\n",
       "      <td>NaN</td>\n",
       "      <td>NaN</td>\n",
       "      <td>NaN</td>\n",
       "      <td>February</td>\n",
       "    </tr>\n",
       "    <tr>\n",
       "      <th>1488</th>\n",
       "      <td>NaN</td>\n",
       "      <td>NaN</td>\n",
       "      <td>NaN</td>\n",
       "      <td>NaN</td>\n",
       "      <td>NaN</td>\n",
       "      <td>NaN</td>\n",
       "      <td>February</td>\n",
       "    </tr>\n",
       "    <tr>\n",
       "      <th>1517</th>\n",
       "      <td>NaN</td>\n",
       "      <td>NaN</td>\n",
       "      <td>NaN</td>\n",
       "      <td>NaN</td>\n",
       "      <td>NaN</td>\n",
       "      <td>NaN</td>\n",
       "      <td>February</td>\n",
       "    </tr>\n",
       "    <tr>\n",
       "      <th>...</th>\n",
       "      <td>...</td>\n",
       "      <td>...</td>\n",
       "      <td>...</td>\n",
       "      <td>...</td>\n",
       "      <td>...</td>\n",
       "      <td>...</td>\n",
       "      <td>...</td>\n",
       "    </tr>\n",
       "    <tr>\n",
       "      <th>12567</th>\n",
       "      <td>NaN</td>\n",
       "      <td>NaN</td>\n",
       "      <td>NaN</td>\n",
       "      <td>NaN</td>\n",
       "      <td>NaN</td>\n",
       "      <td>NaN</td>\n",
       "      <td>June</td>\n",
       "    </tr>\n",
       "    <tr>\n",
       "      <th>12640</th>\n",
       "      <td>NaN</td>\n",
       "      <td>NaN</td>\n",
       "      <td>NaN</td>\n",
       "      <td>NaN</td>\n",
       "      <td>NaN</td>\n",
       "      <td>NaN</td>\n",
       "      <td>June</td>\n",
       "    </tr>\n",
       "    <tr>\n",
       "      <th>12659</th>\n",
       "      <td>NaN</td>\n",
       "      <td>NaN</td>\n",
       "      <td>NaN</td>\n",
       "      <td>NaN</td>\n",
       "      <td>NaN</td>\n",
       "      <td>NaN</td>\n",
       "      <td>June</td>\n",
       "    </tr>\n",
       "    <tr>\n",
       "      <th>12732</th>\n",
       "      <td>NaN</td>\n",
       "      <td>NaN</td>\n",
       "      <td>NaN</td>\n",
       "      <td>NaN</td>\n",
       "      <td>NaN</td>\n",
       "      <td>NaN</td>\n",
       "      <td>June</td>\n",
       "    </tr>\n",
       "    <tr>\n",
       "      <th>13352</th>\n",
       "      <td>NaN</td>\n",
       "      <td>NaN</td>\n",
       "      <td>NaN</td>\n",
       "      <td>NaN</td>\n",
       "      <td>NaN</td>\n",
       "      <td>NaN</td>\n",
       "      <td>June</td>\n",
       "    </tr>\n",
       "  </tbody>\n",
       "</table>\n",
       "<p>219 rows × 7 columns</p>\n",
       "</div>"
      ],
      "text/plain": [
       "      Order_ID Product Quantity_Ordered Price_Each Order_Date  \\\n",
       "75         NaN     NaN              NaN        NaN        NaN   \n",
       "169        NaN     NaN              NaN        NaN        NaN   \n",
       "172        NaN     NaN              NaN        NaN        NaN   \n",
       "1488       NaN     NaN              NaN        NaN        NaN   \n",
       "1517       NaN     NaN              NaN        NaN        NaN   \n",
       "...        ...     ...              ...        ...        ...   \n",
       "12567      NaN     NaN              NaN        NaN        NaN   \n",
       "12640      NaN     NaN              NaN        NaN        NaN   \n",
       "12659      NaN     NaN              NaN        NaN        NaN   \n",
       "12732      NaN     NaN              NaN        NaN        NaN   \n",
       "13352      NaN     NaN              NaN        NaN        NaN   \n",
       "\n",
       "      Purchase_Address Sales_Month  \n",
       "75                 NaN    February  \n",
       "169                NaN    February  \n",
       "172                NaN    February  \n",
       "1488               NaN    February  \n",
       "1517               NaN    February  \n",
       "...                ...         ...  \n",
       "12567              NaN        June  \n",
       "12640              NaN        June  \n",
       "12659              NaN        June  \n",
       "12732              NaN        June  \n",
       "13352              NaN        June  \n",
       "\n",
       "[219 rows x 7 columns]"
      ]
     },
     "execution_count": 38,
     "metadata": {},
     "output_type": "execute_result"
    }
   ],
   "source": [
    "First_half[First_half.isna().any(axis=1)]"
   ]
  },
  {
   "cell_type": "code",
   "execution_count": 39,
   "id": "87f21866",
   "metadata": {},
   "outputs": [],
   "source": [
    "First_half = First_half.dropna()"
   ]
  },
  {
   "cell_type": "code",
   "execution_count": 40,
   "id": "e2135195",
   "metadata": {},
   "outputs": [
    {
     "data": {
      "text/plain": [
       "False"
      ]
     },
     "execution_count": 40,
     "metadata": {},
     "output_type": "execute_result"
    }
   ],
   "source": [
    "First_half.isnull().values.any()"
   ]
  },
  {
   "cell_type": "code",
   "execution_count": 41,
   "id": "d2001443",
   "metadata": {},
   "outputs": [],
   "source": [
    "#Merging the second half of the year's data\n",
    "Second_half = pd.concat([df_Jul,df_Aug,df_Sep,df_Oct,df_Nov,df_Dec])"
   ]
  },
  {
   "cell_type": "code",
   "execution_count": 42,
   "id": "6c79d6eb",
   "metadata": {},
   "outputs": [
    {
     "name": "stdout",
     "output_type": "stream",
     "text": [
      "<class 'pandas.core.frame.DataFrame'>\n",
      "Int64Index: 100727 entries, 0 to 24987\n",
      "Data columns (total 7 columns):\n",
      " #   Column            Non-Null Count   Dtype         \n",
      "---  ------            --------------   -----         \n",
      " 0   Order_ID          100727 non-null  int64         \n",
      " 1   Product           100727 non-null  object        \n",
      " 2   Quantity_Ordered  100727 non-null  int64         \n",
      " 3   Price_Each        100727 non-null  float64       \n",
      " 4   Order_Date        100727 non-null  datetime64[ns]\n",
      " 5   Purchase_Address  100727 non-null  object        \n",
      " 6   Sales_Month       100727 non-null  object        \n",
      "dtypes: datetime64[ns](1), float64(1), int64(2), object(3)\n",
      "memory usage: 6.1+ MB\n"
     ]
    }
   ],
   "source": [
    "Second_half.info()"
   ]
  },
  {
   "cell_type": "markdown",
   "id": "93cb9be3",
   "metadata": {},
   "source": [
    "#### The info above shows that there is no null values"
   ]
  },
  {
   "cell_type": "code",
   "execution_count": 52,
   "id": "e9fe89a2",
   "metadata": {},
   "outputs": [],
   "source": [
    "Full_Year = pd.concat([Second_half,First_half])"
   ]
  },
  {
   "cell_type": "code",
   "execution_count": 53,
   "id": "b42d4b83",
   "metadata": {},
   "outputs": [
    {
     "name": "stdout",
     "output_type": "stream",
     "text": [
      "<class 'pandas.core.frame.DataFrame'>\n",
      "Int64Index: 186107 entries, 0 to 13621\n",
      "Data columns (total 7 columns):\n",
      " #   Column            Non-Null Count   Dtype \n",
      "---  ------            --------------   ----- \n",
      " 0   Order_ID          186107 non-null  object\n",
      " 1   Product           186107 non-null  object\n",
      " 2   Quantity_Ordered  186107 non-null  object\n",
      " 3   Price_Each        186107 non-null  object\n",
      " 4   Order_Date        186107 non-null  object\n",
      " 5   Purchase_Address  186107 non-null  object\n",
      " 6   Sales_Month       186107 non-null  object\n",
      "dtypes: object(7)\n",
      "memory usage: 11.4+ MB\n"
     ]
    }
   ],
   "source": [
    "Full_Year.info()"
   ]
  },
  {
   "cell_type": "code",
   "execution_count": 47,
   "id": "ade2bd64",
   "metadata": {},
   "outputs": [
    {
     "data": {
      "text/plain": [
       "False"
      ]
     },
     "execution_count": 47,
     "metadata": {},
     "output_type": "execute_result"
    }
   ],
   "source": [
    "Full_Year.isnull().values.any()"
   ]
  },
  {
   "cell_type": "code",
   "execution_count": 48,
   "id": "3f7bdb98",
   "metadata": {},
   "outputs": [
    {
     "data": {
      "text/html": [
       "<div>\n",
       "<style scoped>\n",
       "    .dataframe tbody tr th:only-of-type {\n",
       "        vertical-align: middle;\n",
       "    }\n",
       "\n",
       "    .dataframe tbody tr th {\n",
       "        vertical-align: top;\n",
       "    }\n",
       "\n",
       "    .dataframe thead th {\n",
       "        text-align: right;\n",
       "    }\n",
       "</style>\n",
       "<table border=\"1\" class=\"dataframe\">\n",
       "  <thead>\n",
       "    <tr style=\"text-align: right;\">\n",
       "      <th></th>\n",
       "      <th>Order_ID</th>\n",
       "      <th>Product</th>\n",
       "      <th>Quantity_Ordered</th>\n",
       "      <th>Price_Each</th>\n",
       "      <th>Order_Date</th>\n",
       "      <th>Purchase_Address</th>\n",
       "      <th>Sales_Month</th>\n",
       "    </tr>\n",
       "  </thead>\n",
       "  <tbody>\n",
       "    <tr>\n",
       "      <th>0</th>\n",
       "      <td>141234</td>\n",
       "      <td>iPhone</td>\n",
       "      <td>1</td>\n",
       "      <td>700</td>\n",
       "      <td>2019-01-22 21:25:00</td>\n",
       "      <td>944 Walnut St, Boston, MA 02215</td>\n",
       "      <td>January</td>\n",
       "    </tr>\n",
       "    <tr>\n",
       "      <th>1</th>\n",
       "      <td>141235</td>\n",
       "      <td>Lightning Charging Cable</td>\n",
       "      <td>1</td>\n",
       "      <td>14.95</td>\n",
       "      <td>2019-01-28 14:15:00</td>\n",
       "      <td>185 Maple St, Portland, OR 97035</td>\n",
       "      <td>January</td>\n",
       "    </tr>\n",
       "    <tr>\n",
       "      <th>2</th>\n",
       "      <td>141236</td>\n",
       "      <td>Wired Headphones</td>\n",
       "      <td>2</td>\n",
       "      <td>11.99</td>\n",
       "      <td>2019-01-17 13:33:00</td>\n",
       "      <td>538 Adams St, San Francisco, CA 94016</td>\n",
       "      <td>January</td>\n",
       "    </tr>\n",
       "    <tr>\n",
       "      <th>3</th>\n",
       "      <td>141237</td>\n",
       "      <td>27in FHD Monitor</td>\n",
       "      <td>1</td>\n",
       "      <td>149.99</td>\n",
       "      <td>2019-01-05 20:33:00</td>\n",
       "      <td>738 10th St, Los Angeles, CA 90001</td>\n",
       "      <td>January</td>\n",
       "    </tr>\n",
       "    <tr>\n",
       "      <th>4</th>\n",
       "      <td>141238</td>\n",
       "      <td>Wired Headphones</td>\n",
       "      <td>1</td>\n",
       "      <td>11.99</td>\n",
       "      <td>2019-01-25 11:59:00</td>\n",
       "      <td>387 10th St, Austin, TX 73301</td>\n",
       "      <td>January</td>\n",
       "    </tr>\n",
       "  </tbody>\n",
       "</table>\n",
       "</div>"
      ],
      "text/plain": [
       "  Order_ID                   Product Quantity_Ordered Price_Each  \\\n",
       "0   141234                    iPhone                1        700   \n",
       "1   141235  Lightning Charging Cable                1      14.95   \n",
       "2   141236          Wired Headphones                2      11.99   \n",
       "3   141237          27in FHD Monitor                1     149.99   \n",
       "4   141238          Wired Headphones                1      11.99   \n",
       "\n",
       "            Order_Date                       Purchase_Address Sales_Month  \n",
       "0  2019-01-22 21:25:00        944 Walnut St, Boston, MA 02215     January  \n",
       "1  2019-01-28 14:15:00       185 Maple St, Portland, OR 97035     January  \n",
       "2  2019-01-17 13:33:00  538 Adams St, San Francisco, CA 94016     January  \n",
       "3  2019-01-05 20:33:00     738 10th St, Los Angeles, CA 90001     January  \n",
       "4  2019-01-25 11:59:00          387 10th St, Austin, TX 73301     January  "
      ]
     },
     "execution_count": 48,
     "metadata": {},
     "output_type": "execute_result"
    }
   ],
   "source": [
    "Full_Year.head()"
   ]
  },
  {
   "cell_type": "code",
   "execution_count": 49,
   "id": "3efa51bf",
   "metadata": {},
   "outputs": [
    {
     "data": {
      "text/html": [
       "<div>\n",
       "<style scoped>\n",
       "    .dataframe tbody tr th:only-of-type {\n",
       "        vertical-align: middle;\n",
       "    }\n",
       "\n",
       "    .dataframe tbody tr th {\n",
       "        vertical-align: top;\n",
       "    }\n",
       "\n",
       "    .dataframe thead th {\n",
       "        text-align: right;\n",
       "    }\n",
       "</style>\n",
       "<table border=\"1\" class=\"dataframe\">\n",
       "  <thead>\n",
       "    <tr style=\"text-align: right;\">\n",
       "      <th></th>\n",
       "      <th>Order_ID</th>\n",
       "      <th>Product</th>\n",
       "      <th>Quantity_Ordered</th>\n",
       "      <th>Price_Each</th>\n",
       "      <th>Order_Date</th>\n",
       "      <th>Purchase_Address</th>\n",
       "      <th>Sales_Month</th>\n",
       "    </tr>\n",
       "  </thead>\n",
       "  <tbody>\n",
       "    <tr>\n",
       "      <th>24983</th>\n",
       "      <td>319666</td>\n",
       "      <td>Lightning Charging Cable</td>\n",
       "      <td>1</td>\n",
       "      <td>14.95</td>\n",
       "      <td>2011-12-19 20:58:00</td>\n",
       "      <td>14 Madison St, San Francisco, CA 94016</td>\n",
       "      <td>December</td>\n",
       "    </tr>\n",
       "    <tr>\n",
       "      <th>24984</th>\n",
       "      <td>319667</td>\n",
       "      <td>AA Batteries (4-pack)</td>\n",
       "      <td>2</td>\n",
       "      <td>3.84</td>\n",
       "      <td>2001-12-19 12:01:00</td>\n",
       "      <td>549 Willow St, Los Angeles, CA 90001</td>\n",
       "      <td>December</td>\n",
       "    </tr>\n",
       "    <tr>\n",
       "      <th>24985</th>\n",
       "      <td>319668</td>\n",
       "      <td>Vareebadd Phone</td>\n",
       "      <td>1</td>\n",
       "      <td>400.0</td>\n",
       "      <td>2009-12-19 06:43:00</td>\n",
       "      <td>273 Wilson St, Seattle, WA 98101</td>\n",
       "      <td>December</td>\n",
       "    </tr>\n",
       "    <tr>\n",
       "      <th>24986</th>\n",
       "      <td>319669</td>\n",
       "      <td>Wired Headphones</td>\n",
       "      <td>1</td>\n",
       "      <td>11.99</td>\n",
       "      <td>2003-12-19 10:39:00</td>\n",
       "      <td>778 River St, Dallas, TX 75001</td>\n",
       "      <td>December</td>\n",
       "    </tr>\n",
       "    <tr>\n",
       "      <th>24987</th>\n",
       "      <td>319670</td>\n",
       "      <td>Bose SoundSport Headphones</td>\n",
       "      <td>1</td>\n",
       "      <td>99.989998</td>\n",
       "      <td>2021-12-19 21:45:00</td>\n",
       "      <td>747 Chestnut St, Los Angeles, CA 90001</td>\n",
       "      <td>December</td>\n",
       "    </tr>\n",
       "  </tbody>\n",
       "</table>\n",
       "</div>"
      ],
      "text/plain": [
       "      Order_ID                     Product Quantity_Ordered Price_Each  \\\n",
       "24983   319666    Lightning Charging Cable                1      14.95   \n",
       "24984   319667       AA Batteries (4-pack)                2       3.84   \n",
       "24985   319668             Vareebadd Phone                1      400.0   \n",
       "24986   319669            Wired Headphones                1      11.99   \n",
       "24987   319670  Bose SoundSport Headphones                1  99.989998   \n",
       "\n",
       "                Order_Date                        Purchase_Address Sales_Month  \n",
       "24983  2011-12-19 20:58:00  14 Madison St, San Francisco, CA 94016    December  \n",
       "24984  2001-12-19 12:01:00    549 Willow St, Los Angeles, CA 90001    December  \n",
       "24985  2009-12-19 06:43:00        273 Wilson St, Seattle, WA 98101    December  \n",
       "24986  2003-12-19 10:39:00          778 River St, Dallas, TX 75001    December  \n",
       "24987  2021-12-19 21:45:00  747 Chestnut St, Los Angeles, CA 90001    December  "
      ]
     },
     "execution_count": 49,
     "metadata": {},
     "output_type": "execute_result"
    }
   ],
   "source": [
    "Full_Year.tail()"
   ]
  },
  {
   "cell_type": "code",
   "execution_count": 55,
   "id": "1d39abd0",
   "metadata": {},
   "outputs": [],
   "source": [
    "Full_Year.to_excel('Sales_2019.xlsx')"
   ]
  },
  {
   "cell_type": "code",
   "execution_count": null,
   "id": "7c1c8983",
   "metadata": {},
   "outputs": [],
   "source": []
  }
 ],
 "metadata": {
  "kernelspec": {
   "display_name": "Python 3 (ipykernel)",
   "language": "python",
   "name": "python3"
  },
  "language_info": {
   "codemirror_mode": {
    "name": "ipython",
    "version": 3
   },
   "file_extension": ".py",
   "mimetype": "text/x-python",
   "name": "python",
   "nbconvert_exporter": "python",
   "pygments_lexer": "ipython3",
   "version": "3.9.13"
  }
 },
 "nbformat": 4,
 "nbformat_minor": 5
}
